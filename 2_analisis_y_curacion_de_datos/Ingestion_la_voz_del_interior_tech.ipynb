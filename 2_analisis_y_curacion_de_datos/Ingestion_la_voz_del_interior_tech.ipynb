{
 "cells": [
  {
   "cell_type": "code",
   "execution_count": 1,
   "metadata": {},
   "outputs": [],
   "source": [
    "import feedparser\n",
    "import pandas as pd\n",
    "\n",
    "parsed = feedparser.parse('https://www.lavoz.com.ar/rss/tecnologia.xml')\n",
    "posts = parsed.entries"
   ]
  },
  {
   "cell_type": "code",
   "execution_count": 2,
   "metadata": {},
   "outputs": [
    {
     "output_type": "display_data",
     "data": {
      "text/plain": "                                               titles\n0   Ubisoft lanza el juego marcado para ser un nue...\n1   El primer smartphone enrollable ya se está fab...\n2   Este guante con sensores traduce la lengua de ...\n3   Microsoft muestra el nuevo diseño del menú de ...\n4   Una campaña de 'malware' envía SMS falsos a us...\n5   Lo que se viene en WhatsApp: stickers animados...\n6   Huawei y Samsung acaparan el mercado mundial d...\n7   Duró poco: Facebook cierra Hobbi, su 'app' exp...\n8   Los altavoces portátiles Xboom Gode LG son res...\n9   Google Fotos desactiva la copia de seguridad y...\n10  Facebook lanza una campaña de alfabetización m...\n11  Facebook crea unas gafas de realidad virtual f...\n12  Disney ya es capaz de crear 'deepfakes' con re...\n13  Detectan problemas con Gmail en la app de Corr...\n14  El iPhone 12 no tendrá en la caja el cargador ...\n15  Policía y reconocimiento facial: todo lo que e...\n16  ¿\"YouTok\"? YouTube prueba la grabación de vide...\n17  Facebook te avisará si el artículo que estás p...\n18  LG anuncia nuevos auriculares inalámbricos con...\n19  Inteligencia Artificial de IBM ya crea resúmen...\n20  Telegram ya permite realizar videollamadas de ...\n21  Novedades de Google: cambian la voz de Maps y ...\n22  Google pagará a los medios bajo un programa de...\n23  Revés para Facebook: el Banco Central de Brasi...\n24  Google introduce el 'fact check' en las búsque...\n25  Google Maps prepara la integración con Uber pa...\n26  Microsoft anuncia el cierre de Mixer y su alia...\n27  Crean un delfín robótico de gran realismo para...\n28  Crean Fugaku, el superordenador más potente de...\n29  Chrome consumirá menos memoria en la nueva act...",
      "text/html": "<div>\n<style scoped>\n    .dataframe tbody tr th:only-of-type {\n        vertical-align: middle;\n    }\n\n    .dataframe tbody tr th {\n        vertical-align: top;\n    }\n\n    .dataframe thead th {\n        text-align: right;\n    }\n</style>\n<table border=\"1\" class=\"dataframe\">\n  <thead>\n    <tr style=\"text-align: right;\">\n      <th></th>\n      <th>titles</th>\n    </tr>\n  </thead>\n  <tbody>\n    <tr>\n      <th>0</th>\n      <td>Ubisoft lanza el juego marcado para ser un nue...</td>\n    </tr>\n    <tr>\n      <th>1</th>\n      <td>El primer smartphone enrollable ya se está fab...</td>\n    </tr>\n    <tr>\n      <th>2</th>\n      <td>Este guante con sensores traduce la lengua de ...</td>\n    </tr>\n    <tr>\n      <th>3</th>\n      <td>Microsoft muestra el nuevo diseño del menú de ...</td>\n    </tr>\n    <tr>\n      <th>4</th>\n      <td>Una campaña de 'malware' envía SMS falsos a us...</td>\n    </tr>\n    <tr>\n      <th>5</th>\n      <td>Lo que se viene en WhatsApp: stickers animados...</td>\n    </tr>\n    <tr>\n      <th>6</th>\n      <td>Huawei y Samsung acaparan el mercado mundial d...</td>\n    </tr>\n    <tr>\n      <th>7</th>\n      <td>Duró poco: Facebook cierra Hobbi, su 'app' exp...</td>\n    </tr>\n    <tr>\n      <th>8</th>\n      <td>Los altavoces portátiles Xboom Gode LG son res...</td>\n    </tr>\n    <tr>\n      <th>9</th>\n      <td>Google Fotos desactiva la copia de seguridad y...</td>\n    </tr>\n    <tr>\n      <th>10</th>\n      <td>Facebook lanza una campaña de alfabetización m...</td>\n    </tr>\n    <tr>\n      <th>11</th>\n      <td>Facebook crea unas gafas de realidad virtual f...</td>\n    </tr>\n    <tr>\n      <th>12</th>\n      <td>Disney ya es capaz de crear 'deepfakes' con re...</td>\n    </tr>\n    <tr>\n      <th>13</th>\n      <td>Detectan problemas con Gmail en la app de Corr...</td>\n    </tr>\n    <tr>\n      <th>14</th>\n      <td>El iPhone 12 no tendrá en la caja el cargador ...</td>\n    </tr>\n    <tr>\n      <th>15</th>\n      <td>Policía y reconocimiento facial: todo lo que e...</td>\n    </tr>\n    <tr>\n      <th>16</th>\n      <td>¿\"YouTok\"? YouTube prueba la grabación de vide...</td>\n    </tr>\n    <tr>\n      <th>17</th>\n      <td>Facebook te avisará si el artículo que estás p...</td>\n    </tr>\n    <tr>\n      <th>18</th>\n      <td>LG anuncia nuevos auriculares inalámbricos con...</td>\n    </tr>\n    <tr>\n      <th>19</th>\n      <td>Inteligencia Artificial de IBM ya crea resúmen...</td>\n    </tr>\n    <tr>\n      <th>20</th>\n      <td>Telegram ya permite realizar videollamadas de ...</td>\n    </tr>\n    <tr>\n      <th>21</th>\n      <td>Novedades de Google: cambian la voz de Maps y ...</td>\n    </tr>\n    <tr>\n      <th>22</th>\n      <td>Google pagará a los medios bajo un programa de...</td>\n    </tr>\n    <tr>\n      <th>23</th>\n      <td>Revés para Facebook: el Banco Central de Brasi...</td>\n    </tr>\n    <tr>\n      <th>24</th>\n      <td>Google introduce el 'fact check' en las búsque...</td>\n    </tr>\n    <tr>\n      <th>25</th>\n      <td>Google Maps prepara la integración con Uber pa...</td>\n    </tr>\n    <tr>\n      <th>26</th>\n      <td>Microsoft anuncia el cierre de Mixer y su alia...</td>\n    </tr>\n    <tr>\n      <th>27</th>\n      <td>Crean un delfín robótico de gran realismo para...</td>\n    </tr>\n    <tr>\n      <th>28</th>\n      <td>Crean Fugaku, el superordenador más potente de...</td>\n    </tr>\n    <tr>\n      <th>29</th>\n      <td>Chrome consumirá menos memoria en la nueva act...</td>\n    </tr>\n  </tbody>\n</table>\n</div>"
     },
     "metadata": {}
    }
   ],
   "source": [
    "dfdic = dict()\n",
    "dfdic['titles'] = list()\n",
    "for post in posts:\n",
    "    dfdic['titles'].append(post.title)\n",
    "\n",
    "df = pd.DataFrame(dfdic)\n",
    "display(df)"
   ]
  }
 ],
 "metadata": {
  "language_info": {
   "codemirror_mode": {
    "name": "ipython",
    "version": 3
   },
   "file_extension": ".py",
   "mimetype": "text/x-python",
   "name": "python",
   "nbconvert_exporter": "python",
   "pygments_lexer": "ipython3",
   "version": "3.7.7-final"
  },
  "orig_nbformat": 2,
  "kernelspec": {
   "name": "python37664bitdiplovenvc8f1cc3d26344ed08febef30f9915ee6",
   "display_name": "Python 3.7.6 64-bit ('diplo': venv)"
  }
 },
 "nbformat": 4,
 "nbformat_minor": 2
}